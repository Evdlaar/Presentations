{
    "metadata": {
        "kernelspec": {
            "name": "SQL",
            "display_name": "SQL",
            "language": "sql"
        },
        "language_info": {
            "name": "sql",
            "version": ""
        }
    },
    "nbformat_minor": 2,
    "nbformat": 4,
    "cells": [
        {
            "cell_type": "markdown",
            "source": [
                "# Querying Big Data Clusters using T-SQL and Polybase\n",
                "Inside Big Data Clusters we can use various options to query the data we store inside, or outside, our Big Data Clusters.\n",
                "One of the methods being through good, old, T-SQL queries!"
            ],
            "metadata": {
                "azdata_cell_guid": "6b7acb15-684b-4252-be61-e4d5140f6265"
            }
        },
        {
            "cell_type": "markdown",
            "source": [
                "Let's start by creating an External Table.\n",
                "The first one we are going to create through the Wizard, he second using T-SQL."
            ],
            "metadata": {
                "azdata_cell_guid": "040ef9b7-3c0d-4725-bd7c-613975b11872"
            }
        },
        {
            "cell_type": "code",
            "source": [
                "USE BDC_External\n",
                ""
            ],
            "metadata": {
                "azdata_cell_guid": "20fb194e-9501-4fe1-bfcb-2ad45d2f38a6"
            },
            "outputs": [],
            "execution_count": 1
        },
        {
            "cell_type": "code",
            "source": [
                "-- Create the external data source\n",
                "CREATE EXTERNAL DATA SOURCE [SqlStoragePool] WITH (LOCATION = N'sqlhdfs://controller-svc/default');"
            ],
            "metadata": {
                "azdata_cell_guid": "8f608698-5d43-4f7f-9070-394d86c5b844"
            },
            "outputs": [],
            "execution_count": 2
        },
        {
            "cell_type": "code",
            "source": [
                "-- Define the source format\n",
                "CREATE EXTERNAL FILE FORMAT [FileFormat_airports]\n",
                "    WITH (FORMAT_TYPE = DELIMITEDTEXT, FORMAT_OPTIONS (FIELD_TERMINATOR = N',', STRING_DELIMITER = N'\"', FIRST_ROW = 2));"
            ],
            "metadata": {
                "azdata_cell_guid": "50e49587-c00e-4570-b12c-83a12dd80f24"
            },
            "outputs": [],
            "execution_count": 21
        },
        {
            "cell_type": "code",
            "source": [
                "-- Create the external table from the CSV file\n",
                "CREATE EXTERNAL TABLE [dbo].[Airports]\n",
                "        (\n",
                "            [IATA_CODE] nvarchar(50) NOT NULL,\n",
                "            [AIRPORT] nvarchar(100) NOT NULL,\n",
                "            [CITY] nvarchar(50) NOT NULL,\n",
                "            [STATE] nvarchar(50) NOT NULL,\n",
                "            [COUNTRY] nvarchar(50) NOT NULL,\n",
                "            [LATITUDE] float,\n",
                "            [LONGITUDE] float\n",
                "        )\n",
                "WITH (LOCATION = N'/Flight_Delays/airports.csv', DATA_SOURCE = [SqlStoragePool], FILE_FORMAT = [FileFormat_airports]);"
            ],
            "metadata": {
                "azdata_cell_guid": "1f05cb1f-2033-45a7-bb7a-2720c7a53706"
            },
            "outputs": [],
            "execution_count": 22
        },
        {
            "cell_type": "code",
            "source": [
                "-- Select some data!\n",
                "SELECT TOP 10 * FROM Airports\n",
                "SELECT TOP 10 * FROM Airlines\n",
                "SELECT TOP 10 * FROM Flights"
            ],
            "metadata": {
                "azdata_cell_guid": "280cfdff-ff64-45a6-a6e5-5cd3f678a223"
            },
            "outputs": [],
            "execution_count": 3
        },
        {
            "cell_type": "code",
            "source": [
                "-- We can also join data from external tables together if we want to\n",
                "SELECT TOP 10\n",
                "    a.airline,\n",
                "    f.flight_number,\n",
                "    f.origin_airport,\n",
                "    f.destination_airport\n",
                "FROM flights f\n",
                "INNER JOIN airlines a\n",
                "ON f.airline = a.iata_code"
            ],
            "metadata": {
                "azdata_cell_guid": "ee6c34a6-f3ce-4f9a-8274-2da6a35c59fa"
            },
            "outputs": [],
            "execution_count": 4
        },
        {
            "cell_type": "code",
            "source": [
                "-- Cleanup\n",
                "DROP EXTERNAL TABLE [dbo].[airlines]\n",
                "DROP EXTERNAL TABLE [dbo].[flights]\n",
                "DROP EXTERNAL TABLE [dbo].[airports]\n",
                "\n",
                "DROP EXTERNAL FILE FORMAT FileFormat_airlines\n",
                "DROP EXTERNAL FILE FORMAT FileFormat_airports\n",
                "DROP EXTERNAL FILE FORMAT FileFormat_flights\n",
                "\n",
                "DROP EXTERNAL DATA SOURCE [SqlStoragePool]"
            ],
            "metadata": {
                "azdata_cell_guid": "4c2d1c86-fd57-4b82-86cd-356acff5b52b"
            },
            "outputs": [],
            "execution_count": 5
        }
    ]
}